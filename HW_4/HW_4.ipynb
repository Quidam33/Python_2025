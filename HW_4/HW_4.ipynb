{
 "cells": [
  {
   "cell_type": "markdown",
   "id": "5952b106-a7f7-4fde-aa06-89f87ab57fd1",
   "metadata": {},
   "source": [
    "## Задание 1"
   ]
  },
  {
   "cell_type": "code",
   "execution_count": 4,
   "id": "494f5d09-2a9a-45b7-a892-6901729e4399",
   "metadata": {},
   "outputs": [],
   "source": [
    "import re\n",
    "\n",
    "def check_car_numbers(number):\n",
    "    valid_letters = 'АВЕКМНОРСТУХ' \n",
    "    regex = fr\"^[{valid_letters}]\\d{{3}}[{valid_letters}]{{2}}\\d{{2,3}}$\"\n",
    "    \n",
    "    if re.match(regex, number):\n",
    "        body = number[:6]\n",
    "        region = number[6:]\n",
    "        return f'Номер {body} валиден. Регион: {region}'\n",
    "    else:\n",
    "        return f'Номер {number} не валиден'"
   ]
  },
  {
   "cell_type": "code",
   "execution_count": 5,
   "id": "40b251ed-71f1-4d3f-9970-b5a4d44f8695",
   "metadata": {},
   "outputs": [
    {
     "name": "stdout",
     "output_type": "stream",
     "text": [
      "Номер А222ВС валиден. Регион: 96\n",
      "Номер АБ22ВВ193 не валиден\n"
     ]
    }
   ],
   "source": [
    "car_numbers = [\"А222ВС96\", \"АБ22ВВ193\"]\n",
    "for car_number in car_numbers:\n",
    "    res = check_car_numbers(car_number)\n",
    "    print(res)"
   ]
  },
  {
   "cell_type": "markdown",
   "id": "21e2be4a-44e4-4b3b-ad3e-8e738bd730b9",
   "metadata": {},
   "source": [
    "## Задание 2"
   ]
  },
  {
   "cell_type": "code",
   "execution_count": 6,
   "id": "1b5b2a32-7a95-4c81-bc32-fadc80bb3f97",
   "metadata": {},
   "outputs": [],
   "source": [
    "def remove_repeateable_words(text):\n",
    "    regex = r'\\b(\\w+)(\\s+\\1\\b)+'\n",
    "    result = re.sub(regex, r'\\1', text, flags=re.IGNORECASE)\n",
    "    return result"
   ]
  },
  {
   "cell_type": "code",
   "execution_count": 7,
   "id": "2360d1c1-169e-4303-9ac0-e958ddbaa5ee",
   "metadata": {},
   "outputs": [],
   "source": [
    "some_string = '''Напишите функцию функцию, которая будет будет будет \n",
    "будет удалять все все все все последовательные \n",
    "повторы слов из из из из заданной строки строки при помощи регулярных выражений'''"
   ]
  },
  {
   "cell_type": "code",
   "execution_count": 8,
   "id": "85b38795-3443-47bb-a253-c8d64d264825",
   "metadata": {},
   "outputs": [
    {
     "name": "stdout",
     "output_type": "stream",
     "text": [
      "Напишите функцию, которая будет удалять все последовательные \n",
      "повторы слов из заданной строки при помощи регулярных выражений\n"
     ]
    }
   ],
   "source": [
    "print(remove_repeateable_words(some_string))"
   ]
  },
  {
   "cell_type": "code",
   "execution_count": null,
   "id": "9d13964a-a036-449c-85ef-6a65a0dc91c0",
   "metadata": {},
   "outputs": [],
   "source": []
  }
 ],
 "metadata": {
  "kernelspec": {
   "display_name": "Python 3 (ipykernel)",
   "language": "python",
   "name": "python3"
  },
  "language_info": {
   "codemirror_mode": {
    "name": "ipython",
    "version": 3
   },
   "file_extension": ".py",
   "mimetype": "text/x-python",
   "name": "python",
   "nbconvert_exporter": "python",
   "pygments_lexer": "ipython3",
   "version": "3.13.2"
  }
 },
 "nbformat": 4,
 "nbformat_minor": 5
}
