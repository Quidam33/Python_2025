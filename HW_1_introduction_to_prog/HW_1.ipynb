{
 "cells": [
  {
   "cell_type": "markdown",
   "id": "848277d7-49aa-4776-ac70-876e55be60dc",
   "metadata": {},
   "source": [
    "# Задание 1"
   ]
  },
  {
   "cell_type": "code",
   "execution_count": 1,
   "id": "95008237-a61e-4757-800a-8577e3902f0c",
   "metadata": {},
   "outputs": [],
   "source": [
    "def check_year(year):\n",
    "    if year % 4 == 0:\n",
    "        return 'Високосный год'\n",
    "    else:\n",
    "        return 'Обычный год'"
   ]
  },
  {
   "cell_type": "code",
   "execution_count": 3,
   "id": "8a3404ab-54cc-4862-9947-6e86ae1bf8b9",
   "metadata": {},
   "outputs": [
    {
     "name": "stdin",
     "output_type": "stream",
     "text": [
      " 2020\n"
     ]
    },
    {
     "name": "stdout",
     "output_type": "stream",
     "text": [
      "Високосный год\n"
     ]
    }
   ],
   "source": [
    "year = int(input())\n",
    "print(check_year(year))"
   ]
  },
  {
   "cell_type": "code",
   "execution_count": 4,
   "id": "b649bef4-305b-4be8-b036-d2dee4ed7520",
   "metadata": {},
   "outputs": [
    {
     "name": "stdin",
     "output_type": "stream",
     "text": [
      " 2019\n"
     ]
    },
    {
     "name": "stdout",
     "output_type": "stream",
     "text": [
      "Обычный год\n"
     ]
    }
   ],
   "source": [
    "year = int(input())\n",
    "print(check_year(year))"
   ]
  },
  {
   "cell_type": "markdown",
   "id": "425fe12b-6205-440c-91ab-0e9a3063e8e6",
   "metadata": {},
   "source": [
    "# Задание 2"
   ]
  },
  {
   "cell_type": "code",
   "execution_count": 6,
   "id": "6cdf5198-0fca-435c-8bb3-2211330f3e7e",
   "metadata": {},
   "outputs": [],
   "source": [
    "def lucky_ticket(ticket_no: str):\n",
    "    if len(ticket_no) != 6:\n",
    "        return 'Неправильный номер билета'\n",
    "    else:\n",
    "        left_side = sum(map(int, ticket_no[:3]))\n",
    "        right_side = sum(map(int, ticket_no[3:]))\n",
    "        if left_side == right_side:\n",
    "            return 'Счастливый билет'\n",
    "        else:\n",
    "            return 'В этот раз не повезло'"
   ]
  },
  {
   "cell_type": "code",
   "execution_count": 7,
   "id": "7d74f4dc-7099-4829-b209-072509bbd1ff",
   "metadata": {},
   "outputs": [
    {
     "name": "stdin",
     "output_type": "stream",
     "text": [
      " 123456\n"
     ]
    },
    {
     "name": "stdout",
     "output_type": "stream",
     "text": [
      "В этот раз не повезло\n"
     ]
    }
   ],
   "source": [
    "ticket_no = input()\n",
    "print(lucky_ticket(ticket_no))"
   ]
  },
  {
   "cell_type": "code",
   "execution_count": 8,
   "id": "6f6953e5-f6a6-4bc3-9942-6cc006536693",
   "metadata": {},
   "outputs": [
    {
     "name": "stdin",
     "output_type": "stream",
     "text": [
      " 123321\n"
     ]
    },
    {
     "name": "stdout",
     "output_type": "stream",
     "text": [
      "Счастливый билет\n"
     ]
    }
   ],
   "source": [
    "ticket_no = input()\n",
    "print(lucky_ticket(ticket_no))"
   ]
  },
  {
   "cell_type": "code",
   "execution_count": 9,
   "id": "6ed3ab3b-13e0-4223-8c8d-7a0c58af0fe1",
   "metadata": {},
   "outputs": [
    {
     "name": "stdin",
     "output_type": "stream",
     "text": [
      " 1234\n"
     ]
    },
    {
     "name": "stdout",
     "output_type": "stream",
     "text": [
      "Неправильный номер билета\n"
     ]
    }
   ],
   "source": [
    "ticket_no = input()\n",
    "print(lucky_ticket(ticket_no))"
   ]
  },
  {
   "cell_type": "code",
   "execution_count": null,
   "id": "65cde888-6d47-43f0-91a3-aef72943bf52",
   "metadata": {},
   "outputs": [],
   "source": []
  }
 ],
 "metadata": {
  "kernelspec": {
   "display_name": "Python 3 (ipykernel)",
   "language": "python",
   "name": "python3"
  },
  "language_info": {
   "codemirror_mode": {
    "name": "ipython",
    "version": 3
   },
   "file_extension": ".py",
   "mimetype": "text/x-python",
   "name": "python",
   "nbconvert_exporter": "python",
   "pygments_lexer": "ipython3",
   "version": "3.13.2"
  }
 },
 "nbformat": 4,
 "nbformat_minor": 5
}
