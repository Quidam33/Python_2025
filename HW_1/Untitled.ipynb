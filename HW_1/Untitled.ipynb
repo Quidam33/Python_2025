{
 "cells": [
  {
   "cell_type": "code",
   "execution_count": null,
   "id": "e2acf391-56fd-4b0b-91a6-68dddf61fcaf",
   "metadata": {},
   "outputs": [],
   "source": [
    "import json"
   ]
  },
  {
   "cell_type": "code",
   "execution_count": null,
   "id": "5c7035a4-b5de-4255-98a1-91ab7dbeec59",
   "metadata": {},
   "outputs": [],
   "source": [
    "i = 0\n",
    "final_dict = {}\n",
    "\n",
    "with open('purchase_log.txt', encoding='utf-8') as f:\n",
    "    print(5)\n",
    "    for line in f:\n",
    "        if i == 0:\n",
    "            continue\n",
    "        else:\n",
    "            print(line)\n",
    "            line = line.strip() \n",
    "            dict_ = json.loads(line)\n",
    "            final_dict[dict_['user_id']] = dict_['category']"
   ]
  },
  {
   "cell_type": "code",
   "execution_count": null,
   "id": "54f974e8-1f6f-42b1-bdc2-113090562265",
   "metadata": {},
   "outputs": [],
   "source": [
    "first2pairs = {k: final_dict[k] for k in final_dict.keys()[:2]}"
   ]
  },
  {
   "cell_type": "code",
   "execution_count": null,
   "id": "bc73a70f-211f-4591-8ec8-c2efb75817e6",
   "metadata": {},
   "outputs": [],
   "source": []
  }
 ],
 "metadata": {
  "kernelspec": {
   "display_name": "Python 3 (ipykernel)",
   "language": "python",
   "name": "python3"
  },
  "language_info": {
   "codemirror_mode": {
    "name": "ipython",
    "version": 3
   },
   "file_extension": ".py",
   "mimetype": "text/x-python",
   "name": "python",
   "nbconvert_exporter": "python",
   "pygments_lexer": "ipython3",
   "version": "3.13.2"
  }
 },
 "nbformat": 4,
 "nbformat_minor": 5
}
