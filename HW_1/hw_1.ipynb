{
 "cells": [
  {
   "cell_type": "code",
   "execution_count": 27,
   "id": "e2acf391-56fd-4b0b-91a6-68dddf61fcaf",
   "metadata": {},
   "outputs": [],
   "source": [
    "import json"
   ]
  },
  {
   "cell_type": "code",
   "execution_count": 28,
   "id": "5c7035a4-b5de-4255-98a1-91ab7dbeec59",
   "metadata": {},
   "outputs": [
    {
     "name": "stdout",
     "output_type": "stream",
     "text": [
      "1840e0b9d4: Продукты\n",
      "4e4f90fcfb: Электроника\n"
     ]
    }
   ],
   "source": [
    "purchases = {}\n",
    "\n",
    "with open('purchase_log.txt', 'r', encoding='utf-8') as f:\n",
    "    for line in f:\n",
    "        line = line.strip()\n",
    "        if not line:\n",
    "            continue\n",
    "        obj = json.loads(line)\n",
    "        if obj.get(\"user_id\") == \"user_id\" and obj.get(\"category\") == \"category\":\n",
    "            continue\n",
    "        purchases[obj[\"user_id\"]] = obj[\"category\"]\n",
    "\n",
    "count = 0\n",
    "for user_id, category in purchases.items():\n",
    "    print(f\"{user_id}: {category}\")\n",
    "    count += 1\n",
    "    if count == 2:\n",
    "        break"
   ]
  },
  {
   "cell_type": "code",
   "execution_count": 29,
   "id": "bc73a70f-211f-4591-8ec8-c2efb75817e6",
   "metadata": {},
   "outputs": [],
   "source": [
    "!git add ."
   ]
  },
  {
   "cell_type": "code",
   "execution_count": 23,
   "id": "bf361491-185b-41af-a4f4-c891846f2890",
   "metadata": {},
   "outputs": [
    {
     "name": "stdout",
     "output_type": "stream",
     "text": [
      "[main f53b6a9] 'hw_1'\n",
      " 2 files changed, 1188 insertions(+), 18 deletions(-)\n"
     ]
    }
   ],
   "source": [
    "!git commit -m 'hw_1'"
   ]
  },
  {
   "cell_type": "code",
   "execution_count": 24,
   "id": "606e885c-a8a6-44b5-aa5b-5fc36d28a6ca",
   "metadata": {},
   "outputs": [
    {
     "name": "stderr",
     "output_type": "stream",
     "text": [
      "To https://github.com/Quidam33/Python_2025.git\n",
      "   73050b5..f53b6a9  main -> main\n"
     ]
    }
   ],
   "source": [
    "!git push"
   ]
  },
  {
   "cell_type": "code",
   "execution_count": null,
   "id": "b3ad06f4-f725-4407-9dd2-2063e64c1f3e",
   "metadata": {},
   "outputs": [],
   "source": []
  }
 ],
 "metadata": {
  "kernelspec": {
   "display_name": "Python 3 (ipykernel)",
   "language": "python",
   "name": "python3"
  },
  "language_info": {
   "codemirror_mode": {
    "name": "ipython",
    "version": 3
   },
   "file_extension": ".py",
   "mimetype": "text/x-python",
   "name": "python",
   "nbconvert_exporter": "python",
   "pygments_lexer": "ipython3",
   "version": "3.13.2"
  }
 },
 "nbformat": 4,
 "nbformat_minor": 5
}
