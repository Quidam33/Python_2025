{
 "cells": [
  {
   "cell_type": "code",
   "execution_count": 7,
   "id": "4a773a42-3504-4ace-9497-842a1b669381",
   "metadata": {},
   "outputs": [],
   "source": [
    "# Задание 1"
   ]
  },
  {
   "cell_type": "code",
   "execution_count": 1,
   "id": "8a80c05e-9bf4-485d-92ef-53c3b020fe6e",
   "metadata": {},
   "outputs": [],
   "source": [
    "from datetime import datetime, date, timedelta\n",
    "from typing import List"
   ]
  },
  {
   "cell_type": "code",
   "execution_count": 2,
   "id": "d7ef4513-f745-4c5d-bf65-52d55c446ab0",
   "metadata": {},
   "outputs": [],
   "source": [
    "def journals_date(date_s: str, journal: str) -> datetime:\n",
    "    journals = {\n",
    "        'The Moscow Times': '%A, %B %d, %Y', # Wednesday, October 2, 2002\n",
    "        'The Guardian': '%A, %y.%m.%d', # Friday, 11.10.13\n",
    "        'Daily News': '%A, %d %B %Y' # Thursday, 18 August 1977\n",
    "    }\n",
    "    return datetime.strptime(date_s, journals.get(journal))"
   ]
  },
  {
   "cell_type": "code",
   "execution_count": 3,
   "id": "680302a5-fada-4cb3-8a2e-4d28dcbbedf5",
   "metadata": {},
   "outputs": [
    {
     "data": {
      "text/plain": [
       "datetime.datetime(2002, 10, 2, 0, 0)"
      ]
     },
     "execution_count": 3,
     "metadata": {},
     "output_type": "execute_result"
    }
   ],
   "source": [
    "journals_date('Wednesday, October 2, 2002', 'The Moscow Times')"
   ]
  },
  {
   "cell_type": "code",
   "execution_count": 4,
   "id": "2d43fb75-b651-4dad-a76b-eb84be73cb11",
   "metadata": {},
   "outputs": [
    {
     "data": {
      "text/plain": [
       "datetime.datetime(2011, 10, 13, 0, 0)"
      ]
     },
     "execution_count": 4,
     "metadata": {},
     "output_type": "execute_result"
    }
   ],
   "source": [
    "journals_date('Friday, 11.10.13', 'The Guardian')"
   ]
  },
  {
   "cell_type": "code",
   "execution_count": 5,
   "id": "930667ae-c1d5-42f5-a6df-b9502964dcb4",
   "metadata": {},
   "outputs": [
    {
     "data": {
      "text/plain": [
       "datetime.datetime(1977, 8, 18, 0, 0)"
      ]
     },
     "execution_count": 5,
     "metadata": {},
     "output_type": "execute_result"
    }
   ],
   "source": [
    "journals_date('Thursday, 18 August 1977', 'Daily News')"
   ]
  },
  {
   "cell_type": "code",
   "execution_count": 8,
   "id": "b91cfe2a-8389-41dd-b734-c0925b4086be",
   "metadata": {},
   "outputs": [],
   "source": [
    "# Задание 2"
   ]
  },
  {
   "cell_type": "code",
   "execution_count": 10,
   "id": "563151be-61c7-4426-a807-d7b415227e00",
   "metadata": {},
   "outputs": [],
   "source": [
    "def date_range(start_date: str, end_date: str) -> List[date]:\n",
    "    try:\n",
    "        start_date_dt = datetime.strptime(start_date, '%Y-%m-%d')\n",
    "        end_date_dt = datetime.strptime(end_date, '%Y-%m-%d')\n",
    "        if start_date_dt > end_date_dt:\n",
    "            return []\n",
    "        else:\n",
    "            return [(start_date_dt + timedelta(days=x)).strftime('%Y-%m-%d') \n",
    "                    for x in range((end_date_dt - start_date_dt).days + 1)]\n",
    "    except ValueError as e:\n",
    "        return []"
   ]
  },
  {
   "cell_type": "code",
   "execution_count": 11,
   "id": "8f3c6dcf-9173-4b87-a431-de2e84704bf4",
   "metadata": {},
   "outputs": [
    {
     "data": {
      "text/plain": [
       "['2022-01-01', '2022-01-02', '2022-01-03']"
      ]
     },
     "execution_count": 11,
     "metadata": {},
     "output_type": "execute_result"
    }
   ],
   "source": [
    "date_range('2022-01-01', '2022-01-03')"
   ]
  },
  {
   "cell_type": "code",
   "execution_count": 12,
   "id": "f64e226d-0e1d-43d2-b201-37ef76e02bdf",
   "metadata": {},
   "outputs": [
    {
     "name": "stderr",
     "output_type": "stream",
     "text": [
      "warning: in the working copy of 'HW_2/.ipynb_checkpoints/hw_2-checkpoint.ipynb', LF will be replaced by CRLF the next time Git touches it\n",
      "warning: in the working copy of 'HW_2/hw_2.ipynb', LF will be replaced by CRLF the next time Git touches it\n"
     ]
    }
   ],
   "source": [
    "!git add ."
   ]
  },
  {
   "cell_type": "code",
   "execution_count": 13,
   "id": "dc606c29-f04a-4887-b5ac-36fb43cdc7b5",
   "metadata": {},
   "outputs": [
    {
     "name": "stdout",
     "output_type": "stream",
     "text": [
      "[main 4342c1a] hw_2\n",
      " 2 files changed, 266 insertions(+)\n",
      " create mode 100644 HW_2/.ipynb_checkpoints/hw_2-checkpoint.ipynb\n",
      " create mode 100644 HW_2/hw_2.ipynb\n"
     ]
    }
   ],
   "source": [
    "!git commit -m \"hw_2\""
   ]
  },
  {
   "cell_type": "code",
   "execution_count": 14,
   "id": "c81627a7-7be1-4916-858b-933f97681430",
   "metadata": {},
   "outputs": [
    {
     "name": "stderr",
     "output_type": "stream",
     "text": [
      "To https://github.com/Quidam33/Python_2025.git\n",
      "   f766e41..4342c1a  main -> main\n"
     ]
    }
   ],
   "source": [
    "!git push"
   ]
  },
  {
   "cell_type": "code",
   "execution_count": null,
   "id": "13fb1528-e18d-48ff-84fd-0268bfffbfc0",
   "metadata": {},
   "outputs": [],
   "source": []
  }
 ],
 "metadata": {
  "kernelspec": {
   "display_name": "Python 3 (ipykernel)",
   "language": "python",
   "name": "python3"
  },
  "language_info": {
   "codemirror_mode": {
    "name": "ipython",
    "version": 3
   },
   "file_extension": ".py",
   "mimetype": "text/x-python",
   "name": "python",
   "nbconvert_exporter": "python",
   "pygments_lexer": "ipython3",
   "version": "3.13.2"
  }
 },
 "nbformat": 4,
 "nbformat_minor": 5
}
