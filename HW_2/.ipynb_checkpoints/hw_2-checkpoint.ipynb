{
 "cells": [
  {
   "cell_type": "code",
   "execution_count": 6,
   "id": "4a773a42-3504-4ace-9497-842a1b669381",
   "metadata": {},
   "outputs": [],
   "source": [
    "# Задание 1"
   ]
  },
  {
   "cell_type": "code",
   "execution_count": 1,
   "id": "8a80c05e-9bf4-485d-92ef-53c3b020fe6e",
   "metadata": {},
   "outputs": [],
   "source": [
    "from datetime import datetime, date, timedelta\n",
    "from typing import List"
   ]
  },
  {
   "cell_type": "code",
   "execution_count": 2,
   "id": "d7ef4513-f745-4c5d-bf65-52d55c446ab0",
   "metadata": {},
   "outputs": [],
   "source": [
    "def journals_date(date_s: str, journal: str) -> datetime:\n",
    "    journals = {\n",
    "        'The Moscow Times': '%A, %B %d, %Y', # Wednesday, October 2, 2002\n",
    "        'The Guardian': '%A, %y.%m.%d', # Friday, 11.10.13\n",
    "        'Daily News': '%A, %d %B %Y' # Thursday, 18 August 1977\n",
    "    }\n",
    "    return datetime.strptime(date_s, journals.get(journal))"
   ]
  },
  {
   "cell_type": "code",
   "execution_count": 3,
   "id": "680302a5-fada-4cb3-8a2e-4d28dcbbedf5",
   "metadata": {},
   "outputs": [
    {
     "data": {
      "text/plain": [
       "datetime.datetime(2002, 10, 2, 0, 0)"
      ]
     },
     "execution_count": 3,
     "metadata": {},
     "output_type": "execute_result"
    }
   ],
   "source": [
    "journals_date('Wednesday, October 2, 2002', 'The Moscow Times')"
   ]
  },
  {
   "cell_type": "code",
   "execution_count": 4,
   "id": "2d43fb75-b651-4dad-a76b-eb84be73cb11",
   "metadata": {},
   "outputs": [
    {
     "data": {
      "text/plain": [
       "datetime.datetime(2011, 10, 13, 0, 0)"
      ]
     },
     "execution_count": 4,
     "metadata": {},
     "output_type": "execute_result"
    }
   ],
   "source": [
    "journals_date('Friday, 11.10.13', 'The Guardian')"
   ]
  },
  {
   "cell_type": "code",
   "execution_count": 5,
   "id": "930667ae-c1d5-42f5-a6df-b9502964dcb4",
   "metadata": {},
   "outputs": [
    {
     "data": {
      "text/plain": [
       "datetime.datetime(1977, 8, 18, 0, 0)"
      ]
     },
     "execution_count": 5,
     "metadata": {},
     "output_type": "execute_result"
    }
   ],
   "source": [
    "journals_date('Thursday, 18 August 1977', 'Daily News')"
   ]
  },
  {
   "cell_type": "code",
   "execution_count": null,
   "id": "b91cfe2a-8389-41dd-b734-c0925b4086be",
   "metadata": {},
   "outputs": [],
   "source": []
  }
 ],
 "metadata": {
  "kernelspec": {
   "display_name": "Python 3 (ipykernel)",
   "language": "python",
   "name": "python3"
  },
  "language_info": {
   "codemirror_mode": {
    "name": "ipython",
    "version": 3
   },
   "file_extension": ".py",
   "mimetype": "text/x-python",
   "name": "python",
   "nbconvert_exporter": "python",
   "pygments_lexer": "ipython3",
   "version": "3.13.2"
  }
 },
 "nbformat": 4,
 "nbformat_minor": 5
}
